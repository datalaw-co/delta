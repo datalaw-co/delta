{
 "cells": [
  {
   "cell_type": "code",
   "execution_count": null,
   "id": "aa97364a-c310-4bd3-a8f0-ae50e55dd62a",
   "metadata": {},
   "outputs": [],
   "source": [
    "from datetime import datetime\n",
    "from pyspark import SparkContext\n",
    "from pyspark.sql import SparkSession, SQLContext"
   ]
  },
  {
   "cell_type": "code",
   "execution_count": null,
   "id": "faea40c8-1d56-4ca5-9c54-69902d622d43",
   "metadata": {},
   "outputs": [],
   "source": [
    "spark = (\n",
    "    SparkSession.builder.appName(\"bronze-db_teste-{}\".format(datetime.today()))\n",
    "        .master(\"spark://spark-master:7077\")\n",
    "        .getOrCreate()\n",
    ")\n",
    "\n",
    "sqlContext = SQLContext(spark)\n",
    "sc = spark.sparkContext\n",
    "spark.sparkContext.getConf().getAll()"
   ]
  }
 ],
 "metadata": {
  "kernelspec": {
   "display_name": "Python 3 (ipykernel)",
   "language": "python",
   "name": "python3"
  },
  "language_info": {
   "codemirror_mode": {
    "name": "ipython",
    "version": 3
   },
   "file_extension": ".py",
   "mimetype": "text/x-python",
   "name": "python",
   "nbconvert_exporter": "python",
   "pygments_lexer": "ipython3",
   "version": "3.11.5"
  }
 },
 "nbformat": 4,
 "nbformat_minor": 5
}
